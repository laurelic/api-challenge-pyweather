{
 "cells": [
  {
   "cell_type": "code",
   "execution_count": 1,
   "metadata": {},
   "outputs": [],
   "source": [
    "# Dependencies and Setup\n",
    "import matplotlib.pyplot as plt\n",
    "import pandas as pd\n",
    "import numpy as np\n",
    "import requests\n",
    "import time\n",
    "from pprint import pprint\n",
    "\n",
    "# Import API key\n",
    "import api_keys\n",
    "\n",
    "# Incorporated citipy to determine city based on latitude and longitude\n",
    "from citipy import citipy"
   ]
  },
  {
   "cell_type": "code",
   "execution_count": 2,
   "metadata": {},
   "outputs": [
    {
     "data": {
      "text/plain": [
       "9"
      ]
     },
     "execution_count": 2,
     "metadata": {},
     "output_type": "execute_result"
    }
   ],
   "source": [
    "# List for holding lat_lngs and cities\n",
    "lat_lngs = []\n",
    "cities = []\n",
    "\n",
    "# Create a set of random lat and lng combinations\n",
    "lats = np.random.uniform(low=-90.000, high=90.000, size=10)\n",
    "lngs = np.random.uniform(low=-180.000, high=180.000, size=10)\n",
    "lat_lngs = zip(lats, lngs)\n",
    "\n",
    "# Identify nearest city for each lat, lng combination\n",
    "for lat_lng in lat_lngs:\n",
    "    city = citipy.nearest_city(lat_lng[0], lat_lng[1]).city_name\n",
    "    \n",
    "    # If the city is unique, then add it to a our cities list\n",
    "    if city not in cities:\n",
    "        cities.append(city)\n",
    "\n",
    "# Print the city count to confirm sufficient count\n",
    "len(cities)"
   ]
  },
  {
   "cell_type": "code",
   "execution_count": 3,
   "metadata": {},
   "outputs": [
    {
     "name": "stdout",
     "output_type": "stream",
     "text": [
      "Retrieving record 0 of 9 | ushuaia, id:3833367\n",
      "Retrieving record 1 of 9 | chokurdakh, id:2126123\n",
      "Retrieving record 2 of 9 | aleksandrovskoye, id:1511846\n",
      "Retrieving record 3 of 9 | punta arenas, id:3874787\n",
      "Retrieving record 4 of 9 | tumut, id:2145875\n",
      "Retrieving record 5 of 9 | tuktoyaktuk, id:6170031\n",
      "Retrieving record 6 of 9 | mataura, id:6201424\n",
      "City not found. Moving on.\n",
      "City not found. Moving on.\n",
      "['Ushuaia', 'Chokurdakh', 'Aleksandrovskoye', 'Punta Arenas', 'Tumut', 'Tuktoyaktuk', 'Mataura']\n",
      "[0, 0, 8, 0, 0, 75, 32]\n",
      "['AR', 'RU', 'RU', 'CL', 'AU', 'CA', 'NZ']\n",
      "[1531958400, 1531962107, 1531962107, 1531958400, 1531962108, 1531958400, 1531962108]\n",
      "[74, 74, 82, 92, 74, 45, 83]\n",
      "[-54.81, 70.62, 56.74, -53.16, -35.3, 69.44, -46.19]\n",
      "[-68.31, 147.9, 85.39, -70.91, 148.22, -133.03, 168.86]\n",
      "[30.2, 49.17, 60.78, 26.6, 45.75, 66.2, 48.9]\n",
      "[5.82, 11.65, 2.59, 4.7, 5.39, 18.34, 5.73]\n"
     ]
    }
   ],
   "source": [
    "#cities = ['seattle', 'plate', 'pen', 'creek', 'boring', 'candyland']\n",
    "cname = []\n",
    "clouds = []\n",
    "country = []\n",
    "date = []\n",
    "humidity = []\n",
    "lat = []\n",
    "long = []\n",
    "max_temp = []\n",
    "wind = []\n",
    "\n",
    "\n",
    "# OpenWeatherMap API Key\n",
    "api_key = api_keys.api_key\n",
    "\n",
    "# Starting URL for Weather Map API Call\n",
    "url = \"http://api.openweathermap.org/data/2.5/weather?units=Imperial&APPID=\" + api_key \n",
    "\n",
    "# OpenWeatherMap API Key\n",
    "api_key = api_keys.api_key\n",
    "\n",
    "# Starting URL for Weather Map API Call\n",
    "url = \"http://api.openweathermap.org/data/2.5/weather?units=Imperial&APPID=\" + api_key \n",
    "\n",
    "for index, city in enumerate(cities):\n",
    "    test = requests.get(url + \"&q=\" + city).json()\n",
    "    if test['cod'] == '404':\n",
    "        print('City not found. Moving on.')\n",
    "    else:\n",
    "        print(f'Retrieving record {index} of {len(cities)} | {city}, id:{test[\"id\"]}')\n",
    "        cname.append(test['name'])\n",
    "        clouds.append(test['clouds']['all'])\n",
    "        country.append(test['sys']['country'])\n",
    "        date.append(test['dt'])\n",
    "        humidity.append(test['main']['humidity'])\n",
    "        lat.append(test['coord']['lat'])\n",
    "        long.append(test['coord']['lon'])\n",
    "        max_temp.append(test['main']['temp_max'])\n",
    "        wind.append(test['wind']['speed'])\n",
    "\n",
    "print(cname)\n",
    "print(clouds)\n",
    "print(country)\n",
    "print(date)\n",
    "print(humidity)\n",
    "print(lat)\n",
    "print(long)\n",
    "print(max_temp)\n",
    "print(wind)"
   ]
  },
  {
   "cell_type": "code",
   "execution_count": 24,
   "metadata": {},
   "outputs": [
    {
     "name": "stdout",
     "output_type": "stream",
     "text": [
      "Los Angeles\n",
      "1\n",
      "US\n"
     ]
    }
   ],
   "source": []
  },
  {
   "cell_type": "code",
   "execution_count": null,
   "metadata": {},
   "outputs": [],
   "source": []
  }
 ],
 "metadata": {
  "kernelspec": {
   "display_name": "Python 3",
   "language": "python",
   "name": "python3"
  },
  "language_info": {
   "codemirror_mode": {
    "name": "ipython",
    "version": 3
   },
   "file_extension": ".py",
   "mimetype": "text/x-python",
   "name": "python",
   "nbconvert_exporter": "python",
   "pygments_lexer": "ipython3",
   "version": "3.6.4"
  }
 },
 "nbformat": 4,
 "nbformat_minor": 2
}
